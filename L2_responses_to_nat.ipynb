{
 "cells": [
  {
   "cell_type": "code",
   "execution_count": null,
   "metadata": {},
   "outputs": [],
   "source": [
    "# Python 3.6.10\n",
    "# Pytorch 1.4.0"
   ]
  },
  {
   "cell_type": "code",
   "execution_count": 1,
   "metadata": {},
   "outputs": [
    {
     "data": {
      "application/javascript": [
       "IPython.notebook.set_autosave_interval(180000)"
      ]
     },
     "metadata": {},
     "output_type": "display_data"
    },
    {
     "name": "stdout",
     "output_type": "stream",
     "text": [
      "Autosaving every 180 seconds\n"
     ]
    }
   ],
   "source": [
    "%load_ext autoreload\n",
    "%autoreload 2\n",
    "%matplotlib inline\n",
    "%autosave 180"
   ]
  },
  {
   "cell_type": "code",
   "execution_count": 2,
   "metadata": {},
   "outputs": [],
   "source": [
    "import numpy as np\n",
    "from matplotlib import pyplot as plt\n",
    "import scipy.io\n",
    "import scipy.io as spio\n",
    "import torch\n",
    "import torch.nn as nn\n",
    "import scipy.interpolate\n",
    "import torch.optim as optim"
   ]
  },
  {
   "cell_type": "code",
   "execution_count": 3,
   "metadata": {},
   "outputs": [],
   "source": [
    "# codes taken from https://stackoverflow.com/questions/7008608/scipy-io-loadmat-nested-structures-i-e-dictionaries\n",
    "\n",
    "def loadmat(filename):\n",
    "    '''\n",
    "    this function should be called instead of direct spio.loadmat\n",
    "    as it cures the problem of not properly recovering python dictionaries\n",
    "    from mat files. It calls the function check keys to cure all entries\n",
    "    which are still mat-objects\n",
    "    '''\n",
    "    def _check_keys(d):\n",
    "        '''\n",
    "        checks if entries in dictionary are mat-objects. If yes\n",
    "        todict is called to change them to nested dictionaries\n",
    "        '''\n",
    "        for key in d:\n",
    "            if isinstance(d[key], spio.matlab.mio5_params.mat_struct):\n",
    "                d[key] = _todict(d[key])\n",
    "            elif isinstance(d[key], np.ndarray):\n",
    "                d[key] = _tolist(d[key])\n",
    "        return d\n",
    "\n",
    "    def _todict(matobj):\n",
    "        '''\n",
    "        A recursive function which constructs from matobjects nested dictionaries\n",
    "        '''\n",
    "        d = {}\n",
    "        for strg in matobj._fieldnames:\n",
    "            elem = matobj.__dict__[strg]\n",
    "            if isinstance(elem, spio.matlab.mio5_params.mat_struct):\n",
    "                d[strg] = _todict(elem)\n",
    "            elif isinstance(elem, np.ndarray):\n",
    "                d[strg] = _tolist(elem)\n",
    "            else:\n",
    "                d[strg] = elem\n",
    "        return d\n",
    "\n",
    "    def _tolist(ndarray):\n",
    "        '''\n",
    "        A recursive function which constructs lists from cellarrays\n",
    "        (which are loaded as numpy ndarrays), recursing into the elements\n",
    "        if they contain matobjects.\n",
    "        '''\n",
    "        elem_list = []\n",
    "        for sub_elem in ndarray:\n",
    "            if isinstance(sub_elem, spio.matlab.mio5_params.mat_struct):\n",
    "                elem_list.append(_todict(sub_elem))\n",
    "            elif isinstance(sub_elem, np.ndarray):\n",
    "                elem_list.append(_tolist(sub_elem))\n",
    "            else:\n",
    "                elem_list.append(sub_elem)\n",
    "        return elem_list\n",
    "    data = scipy.io.loadmat(filename, struct_as_record=False, squeeze_me=True)\n",
    "    return _check_keys(data)"
   ]
  },
  {
   "cell_type": "code",
   "execution_count": 4,
   "metadata": {},
   "outputs": [],
   "source": [
    "#model\n",
    "def f1(v,g):\n",
    "    if v>0:\n",
    "        return 1-g\n",
    "    else:\n",
    "        return g\n",
    "def f2(v,w1,w2):\n",
    "    if v>0:\n",
    "        return w1\n",
    "    else:\n",
    "        return w2\n",
    "\n",
    "class Model(torch.nn.Module):\n",
    "    def __init__(self,dt,feedback=True):\n",
    "        super(Model, self).__init__()\n",
    "        self.tv = nn.Parameter(torch.tensor(0.0131))\n",
    "        self.ty = nn.Parameter(torch.tensor(0.5613))\n",
    "        self.w = nn.Parameter(torch.tensor(12.7118))\n",
    "        self.g1 = nn.Parameter(torch.tensor(0.1686))\n",
    "        self.input_scalar1 = nn.Parameter(torch.tensor(5.6441))\n",
    "        self.input_scalar2 = nn.Parameter(torch.tensor(3.4075))\n",
    "        self.dt = dt\n",
    "        self.y0 = torch.tensor(0.0)\n",
    "        self.outputbias = nn.Parameter(torch.tensor(1.1597))\n",
    "        self.outputweights = nn.Parameter(torch.tensor(0.4818))\n",
    "        self.feedback=feedback\n",
    "\n",
    "    def forward(self, sti_y, target):\n",
    "        res_list=[]\n",
    "        res_list.append(-target[0])\n",
    "        v= -target[0]\n",
    "        y= self.y0 if self.feedback else 0\n",
    "        for i in range(1,len(sti_y)):\n",
    "            if self.feedback:\n",
    "                sti=sti_y[i]*f2(sti_y[i],self.input_scalar1,self.input_scalar2)\n",
    "                dy=(-y+v*f1(v,torch.clamp(self.g1,0,1)))/self.ty*self.dt\n",
    "                dv=(-v-self.w*y-sti)/self.tv*self.dt\n",
    "                v=v+dv\n",
    "                y=y+dy\n",
    "            else:\n",
    "                sti=sti_y[i]*f2(sti_y[i],self.input_scalar1,self.input_scalar2)\n",
    "                dy=(-y+v*f1(v,torch.clamp(self.g1,0,1)))/self.ty*self.dt\n",
    "                dv=(-v-self.w*y-sti)/self.tv*self.dt\n",
    "                v=v+dv\n",
    "                y=0\n",
    "            res_list.append(self.outputweights*(v+self.outputbias))\n",
    "        res_list=torch.stack(res_list)\n",
    "        return -res_list"
   ]
  },
  {
   "cell_type": "code",
   "execution_count": 5,
   "metadata": {},
   "outputs": [],
   "source": [
    "natsti_res=loadmat('data/L2_2s_natstim_corrected_fixedtiming.mat')\n",
    "mean_res,t=np.array(natsti_res['meanResp_fixed']),np.array(natsti_res['t_fixed'])\n",
    "natsti_dict=loadmat('data/L2_2s_natstim.fig')\n",
    "sti_t=np.array(natsti_dict['hgS_070000']['children'][1]['children'][0]['properties']['XData'])\n",
    "sti_y=np.array(natsti_dict['hgS_070000']['children'][1]['children'][0]['properties']['YData'])"
   ]
  },
  {
   "cell_type": "code",
   "execution_count": 6,
   "metadata": {},
   "outputs": [],
   "source": [
    "#preprocessing\n",
    "intf=scipy.interpolate.interp1d(sti_t,sti_y)\n",
    "sti_y=intf(t)\n",
    "sti_y=2*sti_y-1\n",
    "mean_sub=mean_res.mean()\n",
    "std_div=mean_res.std()\n",
    "all_res = (natsti_res['indivResp_fixed']-mean_res.mean())/mean_res.std()\n",
    "mean_res=(mean_res-mean_res.mean())/mean_res.std()"
   ]
  },
  {
   "cell_type": "code",
   "execution_count": 7,
   "metadata": {},
   "outputs": [],
   "source": [
    "dt=(t[-1]-t[0])/(len(t)-1)\n",
    "model=Model(dt)\n",
    "criterion = nn.MSELoss()\n",
    "optimizer = optim.Adam(model.parameters(), lr=0.002)"
   ]
  },
  {
   "cell_type": "code",
   "execution_count": 8,
   "metadata": {},
   "outputs": [],
   "source": [
    "for i in range(3000):\n",
    "    if i==2000:\n",
    "        for param_group in optimizer.param_groups:\n",
    "            param_group['lr'] = 0.5*param_group['lr']\n",
    "    optimizer.zero_grad()\n",
    "    pred=model(sti_y,torch.from_numpy(mean_res))\n",
    "    loss=criterion(pred[:-5],torch.from_numpy(mean_res)[5:])\n",
    "    loss.backward()\n",
    "    optimizer.step()\n",
    "pred_delay_full=model(sti_y,torch.from_numpy(mean_res)).detach().cpu().numpy()\n",
    "pred_delay_full[5:]=pred_delay_full[:-5]\n",
    "pred_delay_full[:5]=0"
   ]
  },
  {
   "cell_type": "code",
   "execution_count": 9,
   "metadata": {},
   "outputs": [
    {
     "data": {
      "text/plain": [
       "0.8990237382257585"
      ]
     },
     "execution_count": 9,
     "metadata": {},
     "output_type": "execute_result"
    }
   ],
   "source": [
    "1-((pred_delay_full-mean_res)**2).mean()/mean_res.var()"
   ]
  },
  {
   "cell_type": "code",
   "execution_count": 10,
   "metadata": {},
   "outputs": [
    {
     "name": "stdout",
     "output_type": "stream",
     "text": [
      "[('tv', Parameter containing:\n",
      "tensor(0.0043, requires_grad=True)), ('ty', Parameter containing:\n",
      "tensor(0.4171, requires_grad=True)), ('w', Parameter containing:\n",
      "tensor(12.5015, requires_grad=True)), ('g1', Parameter containing:\n",
      "tensor(0.2747, requires_grad=True)), ('input_scalar1', Parameter containing:\n",
      "tensor(3.3671, requires_grad=True)), ('input_scalar2', Parameter containing:\n",
      "tensor(4.9657, requires_grad=True)), ('outputbias', Parameter containing:\n",
      "tensor(0.5083, requires_grad=True)), ('outputweights', Parameter containing:\n",
      "tensor(0.7029, requires_grad=True))]\n"
     ]
    }
   ],
   "source": [
    "print(list(model.named_parameters()))"
   ]
  },
  {
   "cell_type": "code",
   "execution_count": null,
   "metadata": {},
   "outputs": [],
   "source": [
    "dt=(t[-1]-t[0])/(len(t)-1)\n",
    "model=Model(dt,False)\n",
    "criterion = nn.MSELoss()\n",
    "optimizer = optim.Adam(model.parameters(), lr=0.0002)\n",
    "for i in range(3000):\n",
    "    if i==2000:\n",
    "        for param_group in optimizer.param_groups:\n",
    "            param_group['lr'] = 0.5*param_group['lr']\n",
    "    optimizer.zero_grad()\n",
    "    pred=model(sti_y,torch.from_numpy(mean_res))\n",
    "    loss=criterion(pred[:-5],torch.from_numpy(mean_res)[5:])\n",
    "    loss.backward()\n",
    "    optimizer.step()\n",
    "pred_delay_full_nofeedback=model(sti_y,torch.from_numpy(mean_res)).detach().cpu().numpy()\n",
    "pred_delay_full_nofeedback[5:]=pred_delay_full_nofeedback[:-5]\n",
    "pred_delay_full_nofeedback[:5]=0"
   ]
  },
  {
   "cell_type": "code",
   "execution_count": 12,
   "metadata": {},
   "outputs": [
    {
     "data": {
      "text/plain": [
       "0.5597415299213333"
      ]
     },
     "execution_count": 12,
     "metadata": {},
     "output_type": "execute_result"
    }
   ],
   "source": [
    "1-((pred_delay_full_nofeedback-mean_res)**2).mean()/mean_res.var()"
   ]
  },
  {
   "cell_type": "code",
   "execution_count": 13,
   "metadata": {},
   "outputs": [
    {
     "name": "stdout",
     "output_type": "stream",
     "text": [
      "[('tv', Parameter containing:\n",
      "tensor(0.0017, requires_grad=True)), ('ty', Parameter containing:\n",
      "tensor(0.5613, requires_grad=True)), ('w', Parameter containing:\n",
      "tensor(12.7118, requires_grad=True)), ('g1', Parameter containing:\n",
      "tensor(0.1686, requires_grad=True)), ('input_scalar1', Parameter containing:\n",
      "tensor(5.5864, requires_grad=True)), ('input_scalar2', Parameter containing:\n",
      "tensor(3.1794, requires_grad=True)), ('outputbias', Parameter containing:\n",
      "tensor(1.2188, requires_grad=True)), ('outputweights', Parameter containing:\n",
      "tensor(0.3416, requires_grad=True))]\n"
     ]
    }
   ],
   "source": [
    "print(list(model.named_parameters()))"
   ]
  },
  {
   "cell_type": "code",
   "execution_count": 14,
   "metadata": {},
   "outputs": [
    {
     "data": {
      "text/plain": [
       "<matplotlib.legend.Legend at 0x7f524addedd8>"
      ]
     },
     "execution_count": 14,
     "metadata": {},
     "output_type": "execute_result"
    },
    {
     "data": {
      "image/png": "[encoded data removed]",
      "text/plain": [
       "<Figure size 432x288 with 1 Axes>"
      ]
     },
     "metadata": {
      "needs_background": "light"
     },
     "output_type": "display_data"
    }
   ],
   "source": [
    "plt.plot(t,-(mean_res*std_div+mean_sub),alpha=.5,label='Data')\n",
    "plt.fill_between(t,-(all_res.mean(axis=0)*std_div+mean_sub-all_res.std(axis=0)*std_div/np.sqrt(len(all_res))),\n",
    "                -(all_res.mean(axis=0)*std_div+mean_sub+all_res.std(axis=0)*std_div/np.sqrt(len(all_res))),alpha=.8)\n",
    "plt.plot(t,-(pred_delay_full*std_div+mean_sub),label=r'Full model: $r^2=0.90$')\n",
    "plt.plot(t,-(pred_delay_full_nofeedback*std_div+mean_sub),label=r'Model without feedback: $r^2=0.56$')\n",
    "plt.legend()\n",
    "plt.xlim(0,2)\n",
    "plt.xlabel('t (s)')\n",
    "plt.ylabel('a. u.')\n",
    "plt.legend(bbox_to_anchor=[1.0,0.7])"
   ]
  },
  {
   "cell_type": "code",
   "execution_count": null,
   "metadata": {},
   "outputs": [],
   "source": []
  }
 ],
 "metadata": {
  "kernelspec": {
   "display_name": "Environment (conda_pytorch_p36)",
   "language": "python",
   "name": "conda_pytorch_p36"
  },
  "language_info": {
   "codemirror_mode": {
    "name": "ipython",
    "version": 3
   },
   "file_extension": ".py",
   "mimetype": "text/x-python",
   "name": "python",
   "nbconvert_exporter": "python",
   "pygments_lexer": "ipython3",
   "version": "3.6.10"
  }
 },
 "nbformat": 4,
 "nbformat_minor": 4
}
