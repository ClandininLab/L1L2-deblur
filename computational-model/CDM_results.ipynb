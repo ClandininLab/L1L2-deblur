{
 "cells": [
  {
   "cell_type": "code",
   "execution_count": null,
   "metadata": {},
   "outputs": [],
   "source": [
    "# Python 3.6.10\n",
    "# Pytorch 1.4.0"
   ]
  },
  {
   "cell_type": "code",
   "execution_count": 2,
   "metadata": {},
   "outputs": [
    {
     "data": {
      "application/javascript": [
       "IPython.notebook.set_autosave_interval(180000)"
      ]
     },
     "metadata": {},
     "output_type": "display_data"
    },
    {
     "name": "stdout",
     "output_type": "stream",
     "text": [
      "Autosaving every 180 seconds\n"
     ]
    }
   ],
   "source": [
    "%load_ext autoreload\n",
    "%autoreload 2\n",
    "%matplotlib inline\n",
    "%autosave 180"
   ]
  },
  {
   "cell_type": "code",
   "execution_count": 3,
   "metadata": {},
   "outputs": [],
   "source": [
    "import numpy as np\n",
    "from matplotlib import pyplot as plt\n",
    "import scipy.io\n",
    "import scipy.io as spio\n",
    "import torch\n",
    "import torch.nn as nn\n",
    "import scipy.interpolate\n",
    "import torch.optim as optim"
   ]
  },
  {
   "cell_type": "code",
   "execution_count": 4,
   "metadata": {},
   "outputs": [],
   "source": [
    "# codes taken from https://stackoverflow.com/questions/7008608/scipy-io-loadmat-nested-structures-i-e-dictionaries\n",
    "\n",
    "def loadmat(filename):\n",
    "    '''\n",
    "    this function should be called instead of direct spio.loadmat\n",
    "    as it cures the problem of not properly recovering python dictionaries\n",
    "    from mat files. It calls the function check keys to cure all entries\n",
    "    which are still mat-objects\n",
    "    '''\n",
    "    def _check_keys(d):\n",
    "        '''\n",
    "        checks if entries in dictionary are mat-objects. If yes\n",
    "        todict is called to change them to nested dictionaries\n",
    "        '''\n",
    "        for key in d:\n",
    "            if isinstance(d[key], spio.matlab.mio5_params.mat_struct):\n",
    "                d[key] = _todict(d[key])\n",
    "            elif isinstance(d[key], np.ndarray):\n",
    "                d[key] = _tolist(d[key])\n",
    "        return d\n",
    "\n",
    "    def _todict(matobj):\n",
    "        '''\n",
    "        A recursive function which constructs from matobjects nested dictionaries\n",
    "        '''\n",
    "        d = {}\n",
    "        for strg in matobj._fieldnames:\n",
    "            elem = matobj.__dict__[strg]\n",
    "            if isinstance(elem, spio.matlab.mio5_params.mat_struct):\n",
    "                d[strg] = _todict(elem)\n",
    "            elif isinstance(elem, np.ndarray):\n",
    "                d[strg] = _tolist(elem)\n",
    "            else:\n",
    "                d[strg] = elem\n",
    "        return d\n",
    "\n",
    "    def _tolist(ndarray):\n",
    "        '''\n",
    "        A recursive function which constructs lists from cellarrays\n",
    "        (which are loaded as numpy ndarrays), recursing into the elements\n",
    "        if they contain matobjects.\n",
    "        '''\n",
    "        elem_list = []\n",
    "        for sub_elem in ndarray:\n",
    "            if isinstance(sub_elem, spio.matlab.mio5_params.mat_struct):\n",
    "                elem_list.append(_todict(sub_elem))\n",
    "            elif isinstance(sub_elem, np.ndarray):\n",
    "                elem_list.append(_tolist(sub_elem))\n",
    "            else:\n",
    "                elem_list.append(sub_elem)\n",
    "        return elem_list\n",
    "    data = scipy.io.loadmat(filename, struct_as_record=False, squeeze_me=True)\n",
    "    return _check_keys(data)"
   ]
  },
  {
   "cell_type": "code",
   "execution_count": 10,
   "metadata": {},
   "outputs": [],
   "source": [
    "#Model\n",
    "def f1(v,g):\n",
    "    if v>0:\n",
    "        return 1-g\n",
    "    else:\n",
    "        return g\n",
    "def f2(v,w1,w2):\n",
    "    if v>0:\n",
    "        return w1\n",
    "    else:\n",
    "        return w2\n",
    "class Model(torch.nn.Module):\n",
    "    def __init__(self,dt,feedback=True):\n",
    "        super(Model, self).__init__()\n",
    "        self.tv = torch.tensor(0.0127)\n",
    "        self.ty = torch.tensor(0.1649)\n",
    "        self.w = nn.Parameter(torch.tensor(8.0041))\n",
    "        self.g1 = torch.tensor(0.0277)\n",
    "        self.input_scalar1 = torch.tensor(7.6327)\n",
    "        self.input_scalar2 = torch.tensor(3.7224)\n",
    "        self.dt = dt\n",
    "        self.y0 = torch.tensor(0.0) \n",
    "        self.outputbias = torch.tensor(0.5348)\n",
    "        self.outputweights = torch.tensor(0.7417)\n",
    "        self.feedback=feedback\n",
    "\n",
    "    def forward(self, sti_y, target):\n",
    "        res_list=[]\n",
    "        res_list.append(-target[0])\n",
    "        v= -target[0]\n",
    "        y= self.y0 if self.feedback else 0\n",
    "        for i in range(1,len(sti_y)):\n",
    "            if self.feedback:\n",
    "                sti=sti_y[i]*f2(sti_y[i],self.input_scalar1,self.input_scalar2)\n",
    "                dy=(-y+v*f1(v,torch.clamp(self.g1,0,1)))/self.ty*self.dt\n",
    "                dv=(-v-self.w*y-sti)/self.tv*self.dt\n",
    "                v=v+dv\n",
    "                y=y+dy\n",
    "            else:\n",
    "                sti=sti_y[i]*f2(sti_y[i],self.input_scalar1,self.input_scalar2)\n",
    "                dy=(-y+v*f1(v,torch.clamp(self.g1,0,1)))/self.ty*self.dt\n",
    "                dv=(-v-self.w*y-sti)/self.tv*self.dt\n",
    "                v=v+dv\n",
    "                y=0\n",
    "            res_list.append(self.outputweights*(v+self.outputbias))\n",
    "        res_list=torch.stack(res_list)\n",
    "        return -res_list"
   ]
  },
  {
   "cell_type": "code",
   "execution_count": 11,
   "metadata": {},
   "outputs": [],
   "source": [
    "res=loadmat('data/L1_CDM_highLum.mat')\n",
    "mean_res,t=np.array(res['meanResp']),np.array(res['t'])\n",
    "res2=loadmat('data/L1_CDM_lowLum.mat')\n",
    "mean_res2,t2=np.array(res2['meanResp']),np.array(res2['t'])\n",
    "\n",
    "res_o=loadmat('data/L1_highLum.mat')\n",
    "mean_res_o,t=np.array(res_o['meanResp']),np.array(res_o['t'])\n",
    "res2_o=loadmat('data/L1_lowLum.mat')\n",
    "mean_res2_o,t2=np.array(res2_o['meanResp']),np.array(res2_o['t'])"
   ]
  },
  {
   "cell_type": "code",
   "execution_count": 12,
   "metadata": {},
   "outputs": [],
   "source": [
    "#data preprocessing\n",
    "mean_sub=np.concatenate([mean_res[1],mean_res[0]]).mean()\n",
    "std_div=np.concatenate([mean_res[0],mean_res[1]]).std()\n",
    "mean_res1=mean_res[1]\n",
    "mean_res1=(mean_res1-mean_sub)/std_div\n",
    "mean_res2=mean_res[0]\n",
    "mean_res2=(mean_res2-mean_sub)/std_div\n",
    "#stimuli\n",
    "sti_t=t\n",
    "sti_y1=np.zeros(len(t))\n",
    "sti_y1[2:5]=1\n",
    "sti_t=t\n",
    "sti_y2=np.zeros(len(t))\n",
    "sti_y2[2:5]=-1\n",
    "dt=(t[-1]-t[0])/(len(t)-1)"
   ]
  },
  {
   "cell_type": "code",
   "execution_count": 15,
   "metadata": {},
   "outputs": [],
   "source": [
    "torch.manual_seed(0)\n",
    "model=Model(dt)\n",
    "pred=model(sti_y1,torch.from_numpy(mean_res1))\n",
    "criterion = nn.MSELoss()\n",
    "optimizer = optim.Adam(model.parameters(), lr=0.005)"
   ]
  },
  {
   "cell_type": "code",
   "execution_count": 16,
   "metadata": {},
   "outputs": [],
   "source": [
    "for i in range(5000):\n",
    "    if i==3000:\n",
    "        for param_group in optimizer.param_groups:\n",
    "            param_group['lr'] = 0.2*param_group['lr']\n",
    "    optimizer.zero_grad()\n",
    "    loss=0\n",
    "    pred=model(sti_y1,torch.from_numpy(mean_res1))\n",
    "    loss+=criterion(pred,torch.from_numpy(mean_res1))\n",
    "    pred=model(sti_y2,torch.from_numpy(mean_res2))\n",
    "    loss+=criterion(pred,torch.from_numpy(mean_res2))\n",
    "    loss.backward()\n",
    "    optimizer.step()"
   ]
  },
  {
   "cell_type": "code",
   "execution_count": 17,
   "metadata": {},
   "outputs": [
    {
     "name": "stdout",
     "output_type": "stream",
     "text": [
      "[('w', Parameter containing:\n",
      "tensor(10.4036, requires_grad=True))]\n"
     ]
    }
   ],
   "source": [
    "print(list(model.named_parameters()))"
   ]
  },
  {
   "cell_type": "code",
   "execution_count": 19,
   "metadata": {},
   "outputs": [],
   "source": [
    "pred1=model(sti_y1,torch.from_numpy(mean_res1))\n",
    "pred2=model(sti_y2,torch.from_numpy(mean_res2))\n",
    "model.w.data.fill_(8.0041)\n",
    "pred2_o=model(sti_y2,torch.from_numpy(mean_res2))\n",
    "pred1_o=model(sti_y1,torch.from_numpy(mean_res1))"
   ]
  },
  {
   "cell_type": "code",
   "execution_count": 20,
   "metadata": {},
   "outputs": [
    {
     "data": {
      "text/plain": [
       "<matplotlib.legend.Legend at 0x7f84bd4526a0>"
      ]
     },
     "execution_count": 20,
     "metadata": {},
     "output_type": "execute_result"
    },
    {
     "data": {
      "image/png": "[encoded data removed]",
      "text/plain": [
       "<Figure size 432x288 with 1 Axes>"
      ]
     },
     "metadata": {
      "needs_background": "light"
     },
     "output_type": "display_data"
    }
   ],
   "source": [
    "plt.plot(t[:],-(pred2_o.detach().cpu().numpy()*std_div+mean_sub),alpha=.5,label='Control',c='r')\n",
    "plt.plot(t,-(pred2.detach().cpu().numpy()*std_div+mean_sub),label='Increased Feedback',c='r',linestyle='--')\n",
    "plt.plot(t[:],-(pred1_o.detach().cpu().numpy()*std_div+mean_sub),alpha=.5,label='Control',c='blue')\n",
    "plt.plot(t,-(pred1.detach().cpu().numpy()*std_div+mean_sub),label='Increased Feedback',c='blue',linestyle='--')\n",
    "plt.xlim(0,0.5)\n",
    "plt.title('L1')\n",
    "plt.xlabel('t')\n",
    "plt.ylabel('a. u.')\n",
    "plt.legend()"
   ]
  },
  {
   "cell_type": "code",
   "execution_count": 27,
   "metadata": {},
   "outputs": [],
   "source": [
    "res=loadmat('data/L2_CDM_highLum.mat')\n",
    "mean_res,t=np.array(res['meanResp']),np.array(res['t'])\n",
    "res2=loadmat('data/L2_CDM_lowLum.mat')\n",
    "mean_res2,t2=np.array(res2['meanResp']),np.array(res2['t'])\n",
    "res_o=loadmat('data/L2_highLum.mat')\n",
    "mean_res_o,t=np.array(res_o['meanResp']),np.array(res_o['t'])\n",
    "res2_o=loadmat('data/L2_lowLum.mat')\n",
    "mean_res2_o,t2=np.array(res2_o['meanResp']),np.array(res2_o['t'])"
   ]
  },
  {
   "cell_type": "code",
   "execution_count": 31,
   "metadata": {},
   "outputs": [],
   "source": [
    "class Model(torch.nn.Module):\n",
    "    def __init__(self,dt,feedback=True):\n",
    "        super(Model, self).__init__()\n",
    "        self.tv = torch.tensor(0.0131)\n",
    "        self.ty = torch.tensor(0.5613)\n",
    "        self.w = nn.Parameter(torch.tensor(12.7118))\n",
    "        self.g1 = torch.tensor(0.1686)  #need double check\n",
    "        self.input_scalar1 = torch.tensor(5.6441)\n",
    "        self.input_scalar2 = torch.tensor(3.4075)\n",
    "        self.dt = dt\n",
    "        self.y0 = torch.tensor(0.0)\n",
    "        self.outputbias = torch.tensor(0.2574)\n",
    "        self.outputweights = torch.tensor(1.0586)\n",
    "        self.feedback=feedback\n",
    "\n",
    "    def forward(self, sti_y, target):\n",
    "        res_list=[]\n",
    "        res_list.append(-target[0])\n",
    "        v= -target[0]\n",
    "        y= self.y0 if self.feedback else 0\n",
    "        for i in range(1,len(sti_y)):\n",
    "            if self.feedback:\n",
    "                sti=sti_y[i]*f2(sti_y[i],self.input_scalar1,self.input_scalar2)\n",
    "                dy=(-y+v*f1(v,torch.clamp(self.g1,0,1)))/self.ty*self.dt\n",
    "                dv=(-v-self.w*y-sti)/self.tv*self.dt\n",
    "                v=v+dv\n",
    "                y=y+dy\n",
    "            else:\n",
    "                sti=sti_y[i]*f2(sti_y[i],self.input_scalar1,self.input_scalar2)\n",
    "                dy=(-y+v*f1(v,torch.clamp(self.g1,0,1)))/self.ty*self.dt\n",
    "                dv=(-v-self.w*y-sti)/self.tv*self.dt\n",
    "                v=v+dv\n",
    "                y=0\n",
    "            res_list.append(self.outputweights*(v+self.outputbias))\n",
    "        res_list=torch.stack(res_list)\n",
    "        return -res_list"
   ]
  },
  {
   "cell_type": "code",
   "execution_count": 32,
   "metadata": {},
   "outputs": [],
   "source": [
    "#preprocessing the data\n",
    "mean_sub=np.concatenate([mean_res[1],mean_res[0]]).mean()\n",
    "std_div=np.concatenate([mean_res[0],mean_res[1]]).std()\n",
    "mean_res1=mean_res[1]\n",
    "mean_res1=(mean_res1-mean_sub)/std_div\n",
    "mean_res2=mean_res[0]\n",
    "mean_res2=(mean_res2-mean_sub)/std_div\n",
    "\n",
    "sti_t=t\n",
    "sti_y1=np.zeros(len(t))\n",
    "sti_y1[2:5]=1\n",
    "sti_t=t\n",
    "sti_y2=np.zeros(len(t))\n",
    "sti_y2[2:5]=-1\n",
    "dt=(t[-1]-t[0])/(len(t)-1)"
   ]
  },
  {
   "cell_type": "code",
   "execution_count": 33,
   "metadata": {},
   "outputs": [],
   "source": [
    "torch.manual_seed(0)\n",
    "model=Model(dt)\n",
    "pred=model(sti_y1,torch.from_numpy(mean_res1))\n",
    "criterion = nn.MSELoss()\n",
    "optimizer = optim.Adam(model.parameters(), lr=0.005)"
   ]
  },
  {
   "cell_type": "code",
   "execution_count": 34,
   "metadata": {},
   "outputs": [],
   "source": [
    "for i in range(5000):\n",
    "    if i==3000:\n",
    "        for param_group in optimizer.param_groups:\n",
    "            param_group['lr'] = 0.2*param_group['lr']\n",
    "    optimizer.zero_grad()\n",
    "    loss=0\n",
    "    pred=model(sti_y1,torch.from_numpy(mean_res1))\n",
    "    loss+=criterion(pred,torch.from_numpy(mean_res1))\n",
    "    pred=model(sti_y2,torch.from_numpy(mean_res2))\n",
    "    loss+=criterion(pred,torch.from_numpy(mean_res2))\n",
    "    loss.backward()\n",
    "    optimizer.step()"
   ]
  },
  {
   "cell_type": "code",
   "execution_count": 35,
   "metadata": {},
   "outputs": [
    {
     "name": "stdout",
     "output_type": "stream",
     "text": [
      "[('w', Parameter containing:\n",
      "tensor(23.6371, requires_grad=True))]\n"
     ]
    }
   ],
   "source": [
    "print(list(model.named_parameters()))"
   ]
  },
  {
   "cell_type": "code",
   "execution_count": 36,
   "metadata": {},
   "outputs": [],
   "source": [
    "pred2=model(sti_y2,torch.from_numpy(mean_res2))\n",
    "pred1=model(sti_y1,torch.from_numpy(mean_res1))\n",
    "model.w.data.fill_(12.7118)\n",
    "pred2_o=model(sti_y2,torch.from_numpy(mean_res2))\n",
    "pred1_o=model(sti_y1,torch.from_numpy(mean_res1))"
   ]
  },
  {
   "cell_type": "code",
   "execution_count": 37,
   "metadata": {},
   "outputs": [
    {
     "data": {
      "text/plain": [
       "<matplotlib.legend.Legend at 0x7f84bd29c978>"
      ]
     },
     "execution_count": 37,
     "metadata": {},
     "output_type": "execute_result"
    },
    {
     "data": {
      "image/png": "[encoded data removed]",
      "text/plain": [
       "<Figure size 432x288 with 1 Axes>"
      ]
     },
     "metadata": {
      "needs_background": "light"
     },
     "output_type": "display_data"
    }
   ],
   "source": [
    "plt.plot(t[:],-(pred2_o.detach().cpu().numpy()*std_div+mean_sub),alpha=.5,label='Control',c='r')\n",
    "plt.plot(t,-(pred2.detach().cpu().numpy()*std_div+mean_sub),label='Increased Feedback',c='r',linestyle='--')\n",
    "plt.plot(t[:],-(pred1_o.detach().cpu().numpy()*std_div+mean_sub),alpha=.5,label='Control',c='blue')\n",
    "plt.plot(t,-(pred1.detach().cpu().numpy()*std_div+mean_sub),label='Increased Feedback',c='blue',linestyle='--')\n",
    "plt.xlim(0,0.5)\n",
    "plt.title('L2')\n",
    "plt.xlabel('t')\n",
    "plt.ylabel('a. u.')\n",
    "plt.legend()"
   ]
  },
  {
   "cell_type": "code",
   "execution_count": null,
   "metadata": {},
   "outputs": [],
   "source": []
  }
 ],
 "metadata": {
  "kernelspec": {
   "display_name": "Environment (conda_pytorch_latest_p36)",
   "language": "python",
   "name": "conda_pytorch_latest_p36"
  },
  "language_info": {
   "codemirror_mode": {
    "name": "ipython",
    "version": 3
   },
   "file_extension": ".py",
   "mimetype": "text/x-python",
   "name": "python",
   "nbconvert_exporter": "python",
   "pygments_lexer": "ipython3",
   "version": "3.6.10"
  }
 },
 "nbformat": 4,
 "nbformat_minor": 4
}
